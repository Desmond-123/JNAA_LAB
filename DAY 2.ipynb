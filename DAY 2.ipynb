{
 "cells": [
  {
   "cell_type": "markdown",
   "id": "66ffb858",
   "metadata": {},
   "source": [
    "CONTINUE\n",
    "="
   ]
  },
  {
   "cell_type": "code",
   "execution_count": 4,
   "id": "13b31e74",
   "metadata": {},
   "outputs": [
    {
     "name": "stdout",
     "output_type": "stream",
     "text": [
      "Number is 1\n",
      "Number is 2\n",
      "Number is 3\n",
      "Number is 4\n",
      "5 is skipped\n",
      "Number is 6\n",
      "Number is 7\n",
      "Number is 8\n",
      "Number is 9\n",
      "Number is 10\n",
      "out of loop\n"
     ]
    }
   ],
   "source": [
    "ctr = 0\n",
    "for ctr in range(10):\n",
    "    ctr = ctr + 1\n",
    "    if ctr == 5:\n",
    "        print('5 is skipped')\n",
    "        continue # it will continue from here\n",
    "        print(\"This won't be printed\") # this is because its on the same line with the continue.\n",
    "    print('Number is ' + str(ctr))\n",
    "print ('out of loop')    "
   ]
  },
  {
   "cell_type": "code",
   "execution_count": 7,
   "id": "c3c0f93a",
   "metadata": {},
   "outputs": [
    {
     "name": "stdout",
     "output_type": "stream",
     "text": [
      "Number is  1\n",
      "Number is  2\n",
      "Number is  3\n",
      "Number is  4\n",
      "5 is skipped\n",
      "Number is  6\n",
      "Number is  7\n",
      "Number is  8\n",
      "Number is  9\n",
      "Number is  10\n",
      "out of loop\n"
     ]
    }
   ],
   "source": [
    "ctr = 0\n",
    "for ctr in range(10):\n",
    "    ctr = ctr + 1\n",
    "    if ctr == 5:\n",
    "        print('5 is skipped')\n",
    "        continue # it will continue from here\n",
    "        print(\"This won't be printed\") # this is because its on the same line with the continue.\n",
    "    print('Number is ',ctr)\n",
    "print ('out of loop')  "
   ]
  },
  {
   "cell_type": "markdown",
   "id": "663c515a",
   "metadata": {},
   "source": [
    "PASS\n",
    "="
   ]
  },
  {
   "cell_type": "code",
   "execution_count": 8,
   "id": "854bc315",
   "metadata": {},
   "outputs": [
    {
     "name": "stdout",
     "output_type": "stream",
     "text": [
      "he is here\n"
     ]
    }
   ],
   "source": [
    "x = 'Desmond'\n",
    "if x == 'Kofi':\n",
    "    pass\n",
    "elif ('Desmond'):\n",
    "    print('he is here')\n",
    "\n"
   ]
  },
  {
   "cell_type": "code",
   "execution_count": 9,
   "id": "41e5e527",
   "metadata": {},
   "outputs": [],
   "source": [
    "numbers =[1,2,3,6,6]"
   ]
  },
  {
   "cell_type": "markdown",
   "id": "4b15029b",
   "metadata": {},
   "source": [
    "ELSE\n",
    "="
   ]
  },
  {
   "cell_type": "code",
   "execution_count": 10,
   "id": "7eaf0d60",
   "metadata": {},
   "outputs": [
    {
     "name": "stdout",
     "output_type": "stream",
     "text": [
      "what would you like to have?: yam\n",
      "we don't have yam\n",
      "what would you like to have?: potato\n",
      "carbohydrate\n",
      "what would you like to have?: none\n"
     ]
    }
   ],
   "source": [
    "# This example involve a list of food, an iput is received and then loop through the menu to find in food is there\n",
    "\n",
    "menu = {'salad': 'vitamin', 'potato': 'carbohydrate', 'chicken': 'protein', 'yogurt': 'mineral'}\n",
    "while True:   \n",
    "    menu_choice = input(\"what would you like to have?: \")   \n",
    "    if menu_choice == 'none':\n",
    "        break   \n",
    "    if menu_choice in menu:\n",
    "        food = menu.get(menu_choice)\n",
    "        print(food) \n",
    "    else: \n",
    "        print (\"we don't have \" + menu_choice)"
   ]
  },
  {
   "cell_type": "markdown",
   "id": "409f6139",
   "metadata": {},
   "source": [
    "FUNCTIONS IN PYTHON\n",
    "="
   ]
  },
  {
   "cell_type": "markdown",
   "id": "bef66e4e",
   "metadata": {},
   "source": [
    "SYNTAX\n",
    "="
   ]
  },
  {
   "cell_type": "code",
   "execution_count": 12,
   "id": "b9be3631",
   "metadata": {},
   "outputs": [
    {
     "data": {
      "text/plain": [
       "'Hello, you are welcome to DES LAB'"
      ]
     },
     "execution_count": 12,
     "metadata": {},
     "output_type": "execute_result"
    }
   ],
   "source": [
    "def welcome():\n",
    "    c = 'Hello, you are welcome to DES LAB'\n",
    "    return c\n",
    "\n",
    "welcome()"
   ]
  },
  {
   "cell_type": "code",
   "execution_count": 13,
   "id": "5ec3d8ee",
   "metadata": {},
   "outputs": [
    {
     "data": {
      "text/plain": [
       "<function __main__.welcome()>"
      ]
     },
     "execution_count": 13,
     "metadata": {},
     "output_type": "execute_result"
    }
   ],
   "source": [
    "welcome"
   ]
  },
  {
   "cell_type": "code",
   "execution_count": 14,
   "id": "acd89fad",
   "metadata": {},
   "outputs": [
    {
     "data": {
      "text/plain": [
       "'Hello, you are welcome to DES LAB'"
      ]
     },
     "execution_count": 14,
     "metadata": {},
     "output_type": "execute_result"
    }
   ],
   "source": [
    "welcome()"
   ]
  },
  {
   "cell_type": "code",
   "execution_count": 16,
   "id": "dfdffc30",
   "metadata": {},
   "outputs": [],
   "source": [
    "def sum_of_nums(a,b): # a and b are dummy variables\n",
    "    c=a+b\n",
    "    return c"
   ]
  },
  {
   "cell_type": "markdown",
   "id": "94cd5650",
   "metadata": {},
   "source": []
  },
  {
   "cell_type": "code",
   "execution_count": null,
   "id": "f306ac38",
   "metadata": {},
   "outputs": [],
   "source": [
    "def sum_of_nums(a,b): # a and b are dummy variables\n",
    "    c=a+b\n",
    "    return c\n",
    "    \n",
    "\n",
    "sum_of_nums(2,3)\n",
    "sum_of_nums(30,20)\n",
    "#sum_of_nums(1,2,3)"
   ]
  },
  {
   "cell_type": "code",
   "execution_count": 22,
   "id": "7d2d7612",
   "metadata": {},
   "outputs": [],
   "source": [
    "def desmond():\n",
    "    c= 'how may I help you'\n",
    "    return 'how may I help you'\n"
   ]
  },
  {
   "cell_type": "code",
   "execution_count": 23,
   "id": "60b1cfcb",
   "metadata": {},
   "outputs": [
    {
     "data": {
      "text/plain": [
       "'how may I help you'"
      ]
     },
     "execution_count": 23,
     "metadata": {},
     "output_type": "execute_result"
    }
   ],
   "source": [
    "desmond()"
   ]
  },
  {
   "cell_type": "code",
   "execution_count": null,
   "id": "b3b1be4b",
   "metadata": {},
   "outputs": [],
   "source": [
    "def desmond():\n",
    "    #c= 'how may I help you'\n",
    "    return 'how may I help you' # In actual sense\n"
   ]
  },
  {
   "cell_type": "code",
   "execution_count": 21,
   "id": "90a5c392",
   "metadata": {},
   "outputs": [
    {
     "data": {
      "text/plain": [
       "'how may I help you'"
      ]
     },
     "execution_count": 21,
     "metadata": {},
     "output_type": "execute_result"
    }
   ],
   "source": [
    "desmond()"
   ]
  },
  {
   "cell_type": "code",
   "execution_count": 28,
   "id": "13010cb5",
   "metadata": {},
   "outputs": [],
   "source": [
    "def d(a):\n",
    "    f=a**2 +10\n",
    "    return f"
   ]
  },
  {
   "cell_type": "code",
   "execution_count": 29,
   "id": "eb03ec1b",
   "metadata": {},
   "outputs": [
    {
     "data": {
      "text/plain": [
       "35"
      ]
     },
     "execution_count": 29,
     "metadata": {},
     "output_type": "execute_result"
    }
   ],
   "source": [
    "d(5)"
   ]
  },
  {
   "cell_type": "code",
   "execution_count": 30,
   "id": "a2042ef1",
   "metadata": {},
   "outputs": [],
   "source": [
    "# example\n",
    "def potential_temperature(T,P0,P1):\n",
    "    answer=T*(P0/P1)**0.286\n",
    "    return answer"
   ]
  },
  {
   "cell_type": "code",
   "execution_count": 33,
   "id": "6f3c8e85",
   "metadata": {},
   "outputs": [],
   "source": [
    "def potential_temp(t,p0,p1):\n",
    "    p = p0/p1\n",
    "    power = 0.286\n",
    "    answer=t*p**power\n",
    "    return answer"
   ]
  },
  {
   "cell_type": "code",
   "execution_count": 34,
   "id": "6d046b3d",
   "metadata": {},
   "outputs": [
    {
     "data": {
      "text/plain": [
       "25.265665497436586"
      ]
     },
     "execution_count": 34,
     "metadata": {},
     "output_type": "execute_result"
    }
   ],
   "source": [
    "potential_temp(23,1000,720)"
   ]
  },
  {
   "cell_type": "code",
   "execution_count": 39,
   "id": "1a6e3e1f",
   "metadata": {},
   "outputs": [],
   "source": [
    "# Examples\n",
    "#Building the function\n",
    "def potential_temp(t,p0,p1,units):\n",
    "    if units.upper()=='C' or units.upper()=='CELSIUS':\n",
    "        t=t+273.15\n",
    "        answer=t*(p0/p1)**0.286\n",
    "        answer=answer-273.15\n",
    "    elif units.upper()=='K' or units.upper()=='KELVIN':\n",
    "        answer=t*(p0/p1)**0.286\n",
    "    return answer\n",
    "\n",
    "\n"
   ]
  },
  {
   "cell_type": "code",
   "execution_count": 40,
   "id": "122ea846",
   "metadata": {},
   "outputs": [
    {
     "data": {
      "text/plain": [
       "53.82560059991221"
      ]
     },
     "execution_count": 40,
     "metadata": {},
     "output_type": "execute_result"
    }
   ],
   "source": [
    "potential_temp(28,1000,750,'c')"
   ]
  },
  {
   "cell_type": "code",
   "execution_count": 41,
   "id": "d12b3671",
   "metadata": {},
   "outputs": [
    {
     "data": {
      "text/plain": [
       "30.401184847410068"
      ]
     },
     "execution_count": 41,
     "metadata": {},
     "output_type": "execute_result"
    }
   ],
   "source": [
    "potential_temp(28,1000,750,'k')"
   ]
  },
  {
   "cell_type": "markdown",
   "id": "4c431a02",
   "metadata": {},
   "source": [
    "LOOPING WITHING FUNCTION\n",
    "="
   ]
  },
  {
   "cell_type": "code",
   "execution_count": null,
   "id": "03fe1aa6",
   "metadata": {},
   "outputs": [],
   "source": [
    "# Examples\n",
    "#Building the function\n",
    "def test(x,max_x,x_interval):\n",
    "    while(x<max_x):\n",
    "        print(x)\n",
    "        x+=x_interval\n",
    "    return x\n",
    "\n",
    "\n",
    "#\n",
    "test(2,50,2)"
   ]
  },
  {
   "cell_type": "markdown",
   "id": "d5c0c5b8",
   "metadata": {},
   "source": [
    "LAMBDA\n",
    "="
   ]
  },
  {
   "cell_type": "code",
   "execution_count": 42,
   "id": "86411385",
   "metadata": {},
   "outputs": [
    {
     "data": {
      "text/plain": [
       "25"
      ]
     },
     "execution_count": 42,
     "metadata": {},
     "output_type": "execute_result"
    }
   ],
   "source": [
    "square = lambda x:x**2\n",
    "square(5)"
   ]
  },
  {
   "cell_type": "code",
   "execution_count": 43,
   "id": "049df75a",
   "metadata": {},
   "outputs": [
    {
     "data": {
      "text/plain": [
       "<function __main__.<lambda>(x)>"
      ]
     },
     "execution_count": 43,
     "metadata": {},
     "output_type": "execute_result"
    }
   ],
   "source": [
    "square"
   ]
  },
  {
   "cell_type": "code",
   "execution_count": 44,
   "id": "7efe01f2",
   "metadata": {},
   "outputs": [
    {
     "data": {
      "text/plain": [
       "10000000000000000"
      ]
     },
     "execution_count": 44,
     "metadata": {},
     "output_type": "execute_result"
    }
   ],
   "source": [
    "square(100000000)"
   ]
  },
  {
   "cell_type": "code",
   "execution_count": null,
   "id": "eea8f147",
   "metadata": {},
   "outputs": [],
   "source": []
  }
 ],
 "metadata": {
  "kernelspec": {
   "display_name": "Python 3 (ipykernel)",
   "language": "python",
   "name": "python3"
  },
  "language_info": {
   "codemirror_mode": {
    "name": "ipython",
    "version": 3
   },
   "file_extension": ".py",
   "mimetype": "text/x-python",
   "name": "python",
   "nbconvert_exporter": "python",
   "pygments_lexer": "ipython3",
   "version": "3.9.7"
  }
 },
 "nbformat": 4,
 "nbformat_minor": 5
}
