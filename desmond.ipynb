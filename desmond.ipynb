{
 "cells": [
  {
   "cell_type": "markdown",
   "id": "b9fc7cef",
   "metadata": {},
   "source": [
    "DAY 1"
   ]
  },
  {
   "cell_type": "markdown",
   "id": "8abfa560",
   "metadata": {},
   "source": [
    "COMMENTS AND HEADING\n",
    "=\n",
    "SCFSHXSGXSCB"
   ]
  },
  {
   "cell_type": "code",
   "execution_count": 2,
   "id": "7afc4c01",
   "metadata": {},
   "outputs": [
    {
     "name": "stdout",
     "output_type": "stream",
     "text": [
      "desmond\n"
     ]
    }
   ],
   "source": [
    "print('desmond')"
   ]
  },
  {
   "cell_type": "code",
   "execution_count": 3,
   "id": "6569f9e7",
   "metadata": {},
   "outputs": [
    {
     "name": "stdout",
     "output_type": "stream",
     "text": [
      "Hello Desmond\n"
     ]
    }
   ],
   "source": [
    "print('Hello Desmond')"
   ]
  },
  {
   "cell_type": "code",
   "execution_count": 6,
   "id": "4d11813f",
   "metadata": {},
   "outputs": [
    {
     "data": {
      "text/plain": [
       "'I am going to very very great'"
      ]
     },
     "execution_count": 6,
     "metadata": {},
     "output_type": "execute_result"
    }
   ],
   "source": [
    "'''I am going to very very great''' # That's who I am"
   ]
  },
  {
   "cell_type": "markdown",
   "id": "fc1bfbb4",
   "metadata": {},
   "source": [
    "DATA TYPES\n",
    "="
   ]
  },
  {
   "cell_type": "code",
   "execution_count": 7,
   "id": "0105b88e",
   "metadata": {},
   "outputs": [
    {
     "data": {
      "text/plain": [
       "10"
      ]
     },
     "execution_count": 7,
     "metadata": {},
     "output_type": "execute_result"
    }
   ],
   "source": [
    "10"
   ]
  },
  {
   "cell_type": "code",
   "execution_count": 8,
   "id": "0f235a57",
   "metadata": {},
   "outputs": [
    {
     "data": {
      "text/plain": [
       "int"
      ]
     },
     "execution_count": 8,
     "metadata": {},
     "output_type": "execute_result"
    }
   ],
   "source": [
    "type (10)"
   ]
  },
  {
   "cell_type": "code",
   "execution_count": 9,
   "id": "d02fe756",
   "metadata": {},
   "outputs": [
    {
     "data": {
      "text/plain": [
       "float"
      ]
     },
     "execution_count": 9,
     "metadata": {},
     "output_type": "execute_result"
    }
   ],
   "source": [
    "type (15.72)"
   ]
  },
  {
   "cell_type": "code",
   "execution_count": 10,
   "id": "1801b2dd",
   "metadata": {},
   "outputs": [
    {
     "ename": "NameError",
     "evalue": "name 'Desmond' is not defined",
     "output_type": "error",
     "traceback": [
      "\u001b[0;31m---------------------------------------------------------------------------\u001b[0m",
      "\u001b[0;31mNameError\u001b[0m                                 Traceback (most recent call last)",
      "\u001b[0;32m/tmp/ipykernel_2996/3154580436.py\u001b[0m in \u001b[0;36m<module>\u001b[0;34m\u001b[0m\n\u001b[0;32m----> 1\u001b[0;31m \u001b[0mtype\u001b[0m \u001b[0;34m(\u001b[0m\u001b[0mDesmond\u001b[0m\u001b[0;34m)\u001b[0m\u001b[0;34m\u001b[0m\u001b[0;34m\u001b[0m\u001b[0m\n\u001b[0m",
      "\u001b[0;31mNameError\u001b[0m: name 'Desmond' is not defined"
     ]
    }
   ],
   "source": [
    "type (Desmond)"
   ]
  },
  {
   "cell_type": "code",
   "execution_count": 11,
   "id": "04993017",
   "metadata": {},
   "outputs": [
    {
     "data": {
      "text/plain": [
       "str"
      ]
     },
     "execution_count": 11,
     "metadata": {},
     "output_type": "execute_result"
    }
   ],
   "source": [
    "type ('Desmond')"
   ]
  },
  {
   "cell_type": "code",
   "execution_count": 12,
   "id": "098f71bc",
   "metadata": {},
   "outputs": [
    {
     "data": {
      "text/plain": [
       "[1, 2, 3, 4, 5, 6, 7, 8, 9]"
      ]
     },
     "execution_count": 12,
     "metadata": {},
     "output_type": "execute_result"
    }
   ],
   "source": [
    "[1,2,3,4,5,6,7,8,9]"
   ]
  },
  {
   "cell_type": "code",
   "execution_count": 17,
   "id": "ca4097fa",
   "metadata": {},
   "outputs": [
    {
     "data": {
      "text/plain": [
       "list"
      ]
     },
     "execution_count": 17,
     "metadata": {},
     "output_type": "execute_result"
    }
   ],
   "source": [
    "type ([1,2,3,4,5,6,7,8,9])"
   ]
  },
  {
   "cell_type": "code",
   "execution_count": 16,
   "id": "00069cd7",
   "metadata": {},
   "outputs": [
    {
     "data": {
      "text/plain": [
       "list"
      ]
     },
     "execution_count": 16,
     "metadata": {},
     "output_type": "execute_result"
    }
   ],
   "source": [
    "type (['Desmond,Eric,Janet'])"
   ]
  },
  {
   "cell_type": "code",
   "execution_count": 15,
   "id": "6c5360d4",
   "metadata": {},
   "outputs": [
    {
     "data": {
      "text/plain": [
       "type['Desmond']"
      ]
     },
     "execution_count": 15,
     "metadata": {},
     "output_type": "execute_result"
    }
   ],
   "source": [
    "type ['Desmond']"
   ]
  },
  {
   "cell_type": "code",
   "execution_count": 18,
   "id": "d608bff1",
   "metadata": {},
   "outputs": [
    {
     "data": {
      "text/plain": [
       "set"
      ]
     },
     "execution_count": 18,
     "metadata": {},
     "output_type": "execute_result"
    }
   ],
   "source": [
    "type ({1,2,3,4,5})"
   ]
  },
  {
   "cell_type": "markdown",
   "id": "4b9f112e",
   "metadata": {},
   "source": [
    "VARIABLE ASSIGNMENT \n",
    "="
   ]
  },
  {
   "cell_type": "code",
   "execution_count": 21,
   "id": "a584cf21",
   "metadata": {},
   "outputs": [],
   "source": [
    "G= 23"
   ]
  },
  {
   "cell_type": "code",
   "execution_count": 22,
   "id": "01531d0d",
   "metadata": {},
   "outputs": [],
   "source": [
    "Q= 3"
   ]
  },
  {
   "cell_type": "code",
   "execution_count": 24,
   "id": "669d982c",
   "metadata": {},
   "outputs": [],
   "source": [
    "ZZ= G+Q"
   ]
  },
  {
   "cell_type": "code",
   "execution_count": 25,
   "id": "c21e3773",
   "metadata": {},
   "outputs": [
    {
     "data": {
      "text/plain": [
       "26"
      ]
     },
     "execution_count": 25,
     "metadata": {},
     "output_type": "execute_result"
    }
   ],
   "source": [
    "ZZ"
   ]
  },
  {
   "cell_type": "code",
   "execution_count": 26,
   "id": "979b8481",
   "metadata": {},
   "outputs": [],
   "source": [
    "Age = 70"
   ]
  },
  {
   "cell_type": "code",
   "execution_count": 27,
   "id": "58a7a0fd",
   "metadata": {},
   "outputs": [],
   "source": [
    "Weight = 65"
   ]
  },
  {
   "cell_type": "code",
   "execution_count": 28,
   "id": "d76beb6d",
   "metadata": {},
   "outputs": [],
   "source": [
    "Information = Age + Weight"
   ]
  },
  {
   "cell_type": "code",
   "execution_count": 29,
   "id": "1d9defdc",
   "metadata": {},
   "outputs": [
    {
     "data": {
      "text/plain": [
       "135"
      ]
     },
     "execution_count": 29,
     "metadata": {},
     "output_type": "execute_result"
    }
   ],
   "source": [
    "Information"
   ]
  },
  {
   "cell_type": "code",
   "execution_count": 30,
   "id": "c3438de4",
   "metadata": {},
   "outputs": [],
   "source": [
    "l =23"
   ]
  },
  {
   "cell_type": "code",
   "execution_count": 31,
   "id": "88f91437",
   "metadata": {},
   "outputs": [],
   "source": [
    "k =34"
   ]
  },
  {
   "cell_type": "code",
   "execution_count": 32,
   "id": "9edaa050",
   "metadata": {},
   "outputs": [
    {
     "data": {
      "text/plain": [
       "782"
      ]
     },
     "execution_count": 32,
     "metadata": {},
     "output_type": "execute_result"
    }
   ],
   "source": [
    "F=l*k\n",
    "F"
   ]
  },
  {
   "cell_type": "code",
   "execution_count": 34,
   "id": "9cd6890e",
   "metadata": {},
   "outputs": [
    {
     "name": "stdout",
     "output_type": "stream",
     "text": [
      "my name is Desmond \n",
      "I am a met student\n"
     ]
    }
   ],
   "source": [
    "print('my name is Desmond \\nI am a met student')"
   ]
  },
  {
   "cell_type": "code",
   "execution_count": 36,
   "id": "eaae94ab",
   "metadata": {},
   "outputs": [
    {
     "name": "stdout",
     "output_type": "stream",
     "text": [
      "Question 1 is A \n",
      "Question 2 is B\n"
     ]
    }
   ],
   "source": [
    "print ('Question 1 is A \\nQuestion 2 is B')"
   ]
  },
  {
   "cell_type": "code",
   "execution_count": 37,
   "id": "90f14ece",
   "metadata": {},
   "outputs": [
    {
     "name": "stdout",
     "output_type": "stream",
     "text": [
      "\n"
     ]
    }
   ],
   "source": [
    "print('')"
   ]
  },
  {
   "cell_type": "code",
   "execution_count": 38,
   "id": "a595dd38",
   "metadata": {},
   "outputs": [
    {
     "name": "stdout",
     "output_type": "stream",
     "text": [
      "My name is Desmond \n",
      "I am from Nkawkaw in the Eastern Region\n"
     ]
    }
   ],
   "source": [
    "print('My name is Desmond \\nI am from Nkawkaw in the Eastern Region')"
   ]
  },
  {
   "cell_type": "code",
   "execution_count": 39,
   "id": "0ec9b9f6",
   "metadata": {},
   "outputs": [],
   "source": [
    "A= 25\n",
    "B=15\n",
    "Ans = A*B"
   ]
  },
  {
   "cell_type": "code",
   "execution_count": 40,
   "id": "772b67ca",
   "metadata": {},
   "outputs": [
    {
     "name": "stdout",
     "output_type": "stream",
     "text": [
      "375\n"
     ]
    }
   ],
   "source": [
    "print(Ans)"
   ]
  },
  {
   "cell_type": "code",
   "execution_count": 42,
   "id": "1f673131",
   "metadata": {},
   "outputs": [],
   "source": [
    "Course= 'Meteorology and Climate Science'"
   ]
  },
  {
   "cell_type": "code",
   "execution_count": 43,
   "id": "e62fa276",
   "metadata": {},
   "outputs": [
    {
     "data": {
      "text/plain": [
       "31"
      ]
     },
     "execution_count": 43,
     "metadata": {},
     "output_type": "execute_result"
    }
   ],
   "source": [
    "len (Course)"
   ]
  },
  {
   "cell_type": "code",
   "execution_count": 50,
   "id": "c2fbf2c1",
   "metadata": {},
   "outputs": [
    {
     "data": {
      "text/plain": [
       "'Me'"
      ]
     },
     "execution_count": 50,
     "metadata": {},
     "output_type": "execute_result"
    }
   ],
   "source": [
    "Course[0:2] # Subsetting"
   ]
  },
  {
   "cell_type": "code",
   "execution_count": 49,
   "id": "63a15318",
   "metadata": {},
   "outputs": [
    {
     "data": {
      "text/plain": [
       "'oooyadCiaeSine'"
      ]
     },
     "execution_count": 49,
     "metadata": {},
     "output_type": "execute_result"
    }
   ],
   "source": [
    "Course[4::2] # starting for the 4th letter and skiping two"
   ]
  },
  {
   "cell_type": "code",
   "execution_count": 51,
   "id": "4372aa5b",
   "metadata": {},
   "outputs": [
    {
     "data": {
      "text/plain": [
       "'MtoooyadCiaeSine'"
      ]
     },
     "execution_count": 51,
     "metadata": {},
     "output_type": "execute_result"
    }
   ],
   "source": [
    "Course[::2]"
   ]
  },
  {
   "cell_type": "markdown",
   "id": "01a9c554",
   "metadata": {},
   "source": [
    "CONCATENATE\n",
    "="
   ]
  },
  {
   "cell_type": "code",
   "execution_count": 1,
   "id": "305889be",
   "metadata": {},
   "outputs": [
    {
     "name": "stdout",
     "output_type": "stream",
     "text": [
      "MeteorologyAndClimateScience\n"
     ]
    }
   ],
   "source": [
    "A= 'Meteorology'\n",
    "B= 'And'\n",
    "C= 'Climate'\n",
    "D= 'Science'\n",
    "print(A+B+C+D)"
   ]
  },
  {
   "cell_type": "code",
   "execution_count": 2,
   "id": "adfbc7b0",
   "metadata": {},
   "outputs": [
    {
     "name": "stdout",
     "output_type": "stream",
     "text": [
      "VOTE FOR DESMOND 2023 \n",
      "VOTE FOR DESMOND 2023 \n",
      "VOTE FOR DESMOND 2023 \n",
      "VOTE FOR DESMOND 2023 \n",
      "VOTE FOR DESMOND 2023 \n",
      "VOTE FOR DESMOND 2023 \n",
      "VOTE FOR DESMOND 2023 \n",
      "VOTE FOR DESMOND 2023 \n",
      "VOTE FOR DESMOND 2023 \n",
      "VOTE FOR DESMOND 2023 \n",
      "VOTE FOR DESMOND 2023 \n",
      "VOTE FOR DESMOND 2023 \n",
      "VOTE FOR DESMOND 2023 \n",
      "VOTE FOR DESMOND 2023 \n",
      "VOTE FOR DESMOND 2023 \n",
      "VOTE FOR DESMOND 2023 \n",
      "VOTE FOR DESMOND 2023 \n",
      "VOTE FOR DESMOND 2023 \n",
      "VOTE FOR DESMOND 2023 \n",
      "VOTE FOR DESMOND 2023 \n",
      "\n"
     ]
    }
   ],
   "source": [
    "print('VOTE FOR DESMOND 2023 \\n'*20)"
   ]
  },
  {
   "cell_type": "markdown",
   "id": "a6a3c5aa",
   "metadata": {},
   "source": [
    "FORMATING STRING\n",
    "="
   ]
  },
  {
   "cell_type": "code",
   "execution_count": 3,
   "id": "30d0be7a",
   "metadata": {},
   "outputs": [],
   "source": [
    "A= 'DESMOND IS A BRILIANT SCIENTIST'"
   ]
  },
  {
   "cell_type": "code",
   "execution_count": 4,
   "id": "9839ade7",
   "metadata": {},
   "outputs": [
    {
     "data": {
      "text/plain": [
       "'desmond is a briliant scientist'"
      ]
     },
     "execution_count": 4,
     "metadata": {},
     "output_type": "execute_result"
    }
   ],
   "source": [
    "A.lower()"
   ]
  },
  {
   "cell_type": "code",
   "execution_count": 5,
   "id": "a613bc24",
   "metadata": {},
   "outputs": [],
   "source": [
    "B= A.lower()"
   ]
  },
  {
   "cell_type": "code",
   "execution_count": 6,
   "id": "4537de78",
   "metadata": {},
   "outputs": [],
   "source": [
    "C= B.upper()"
   ]
  },
  {
   "cell_type": "code",
   "execution_count": 7,
   "id": "a96a3e99",
   "metadata": {},
   "outputs": [
    {
     "data": {
      "text/plain": [
       "'DESMOND IS A BRILIANT SCIENTIST'"
      ]
     },
     "execution_count": 7,
     "metadata": {},
     "output_type": "execute_result"
    }
   ],
   "source": [
    "C"
   ]
  },
  {
   "cell_type": "code",
   "execution_count": 8,
   "id": "dd5eabc6",
   "metadata": {},
   "outputs": [
    {
     "data": {
      "text/plain": [
       "'Desmond is a briliant scientist'"
      ]
     },
     "execution_count": 8,
     "metadata": {},
     "output_type": "execute_result"
    }
   ],
   "source": [
    "B.capitalize()"
   ]
  },
  {
   "cell_type": "code",
   "execution_count": 9,
   "id": "c6f0a9c1",
   "metadata": {},
   "outputs": [
    {
     "data": {
      "text/plain": [
       "['DESMOND', 'IS', 'A', 'BRILIANT', 'SCIENTIST']"
      ]
     },
     "execution_count": 9,
     "metadata": {},
     "output_type": "execute_result"
    }
   ],
   "source": [
    "C.split()"
   ]
  },
  {
   "cell_type": "code",
   "execution_count": 10,
   "id": "e05386a8",
   "metadata": {},
   "outputs": [
    {
     "data": {
      "text/plain": [
       "'DENIS IS A BRILIANT SCIENTIST'"
      ]
     },
     "execution_count": 10,
     "metadata": {},
     "output_type": "execute_result"
    }
   ],
   "source": [
    "A.replace('DESMOND','DENIS')"
   ]
  },
  {
   "cell_type": "code",
   "execution_count": 25,
   "id": "8061f4fd",
   "metadata": {},
   "outputs": [],
   "source": [
    "first = 'welcome to the {year} {prog} organized by {organizers}'.format(year= 2022, prog= 'Pythom Programming',organizers='One Quantum Ghana' )"
   ]
  },
  {
   "cell_type": "code",
   "execution_count": 26,
   "id": "c9123805",
   "metadata": {},
   "outputs": [
    {
     "data": {
      "text/plain": [
       "'welcome to the 2022 Pythom Programming organized by One Quantum Ghana'"
      ]
     },
     "execution_count": 26,
     "metadata": {},
     "output_type": "execute_result"
    }
   ],
   "source": [
    "first"
   ]
  },
  {
   "cell_type": "code",
   "execution_count": 23,
   "id": "5ef853e4",
   "metadata": {},
   "outputs": [],
   "source": [
    "second = 'welcome to the {} {} organized by {}'.format(2022,'Pythom Programming','One Quantum Ghana')"
   ]
  },
  {
   "cell_type": "code",
   "execution_count": 24,
   "id": "ec891e3f",
   "metadata": {},
   "outputs": [
    {
     "data": {
      "text/plain": [
       "'welcome to the 2022 Pythom Programming organized by One Quantum Ghana'"
      ]
     },
     "execution_count": 24,
     "metadata": {},
     "output_type": "execute_result"
    }
   ],
   "source": [
    "second"
   ]
  },
  {
   "cell_type": "markdown",
   "id": "6b56bd1a",
   "metadata": {},
   "source": [
    "BASIC ARITHMETICS \n",
    "="
   ]
  },
  {
   "cell_type": "code",
   "execution_count": 17,
   "id": "08f9ef9b",
   "metadata": {},
   "outputs": [
    {
     "data": {
      "text/plain": [
       "3"
      ]
     },
     "execution_count": 17,
     "metadata": {},
     "output_type": "execute_result"
    }
   ],
   "source": [
    "7//2  #floor division"
   ]
  },
  {
   "cell_type": "markdown",
   "id": "5952043d",
   "metadata": {},
   "source": [
    "BOOLIAN \n",
    "="
   ]
  },
  {
   "cell_type": "code",
   "execution_count": 18,
   "id": "d1f2b83c",
   "metadata": {},
   "outputs": [
    {
     "data": {
      "text/plain": [
       "False"
      ]
     },
     "execution_count": 18,
     "metadata": {},
     "output_type": "execute_result"
    }
   ],
   "source": [
    "2>75"
   ]
  },
  {
   "cell_type": "code",
   "execution_count": 20,
   "id": "2ef565cd",
   "metadata": {},
   "outputs": [
    {
     "data": {
      "text/plain": [
       "bool"
      ]
     },
     "execution_count": 20,
     "metadata": {},
     "output_type": "execute_result"
    }
   ],
   "source": [
    "type(11.2 == 11.22)  #== mean equally equal to"
   ]
  },
  {
   "cell_type": "code",
   "execution_count": 22,
   "id": "58d4ea44",
   "metadata": {},
   "outputs": [
    {
     "data": {
      "text/plain": [
       "False"
      ]
     },
     "execution_count": 22,
     "metadata": {},
     "output_type": "execute_result"
    }
   ],
   "source": [
    "11.2 == 11.22"
   ]
  },
  {
   "cell_type": "markdown",
   "id": "2fe729e4",
   "metadata": {},
   "source": [
    "DICTIONARY\n",
    "="
   ]
  },
  {
   "cell_type": "code",
   "execution_count": 32,
   "id": "f0167126",
   "metadata": {},
   "outputs": [],
   "source": [
    "A= {\n",
    "    'Name':'Desmond Osei-Tutu',\n",
    "    'Telephone number':'0543612149',\n",
    "    'Gender':'Male',\n",
    "    'Age':'100'\n",
    "}"
   ]
  },
  {
   "cell_type": "code",
   "execution_count": 33,
   "id": "99b843ff",
   "metadata": {},
   "outputs": [
    {
     "data": {
      "text/plain": [
       "{'Name': 'Desmond Osei-Tutu',\n",
       " 'Telephone number': '0543612149',\n",
       " 'Gender': 'Male',\n",
       " 'Age': '100'}"
      ]
     },
     "execution_count": 33,
     "metadata": {},
     "output_type": "execute_result"
    }
   ],
   "source": [
    "A"
   ]
  },
  {
   "cell_type": "markdown",
   "id": "e4d58b6b",
   "metadata": {},
   "source": [
    "COMPARISON\n",
    "="
   ]
  },
  {
   "cell_type": "code",
   "execution_count": 34,
   "id": "70d49b42",
   "metadata": {},
   "outputs": [
    {
     "data": {
      "text/plain": [
       "True"
      ]
     },
     "execution_count": 34,
     "metadata": {},
     "output_type": "execute_result"
    }
   ],
   "source": [
    "2<=10"
   ]
  },
  {
   "cell_type": "code",
   "execution_count": 35,
   "id": "b65833a0",
   "metadata": {},
   "outputs": [
    {
     "data": {
      "text/plain": [
       "False"
      ]
     },
     "execution_count": 35,
     "metadata": {},
     "output_type": "execute_result"
    }
   ],
   "source": [
    "5>=10"
   ]
  },
  {
   "cell_type": "markdown",
   "id": "df8d3f50",
   "metadata": {},
   "source": [
    "LOGICAL\n",
    "="
   ]
  },
  {
   "cell_type": "code",
   "execution_count": 39,
   "id": "9d13d475",
   "metadata": {},
   "outputs": [
    {
     "data": {
      "text/plain": [
       "False"
      ]
     },
     "execution_count": 39,
     "metadata": {},
     "output_type": "execute_result"
    }
   ],
   "source": [
    "(5<2)&(5>3) # WORKS IF BOTH STATEMENTS ARE TRUE, IF NOT AND ONLY ONE IS TRUE THEN IT WILL GIVE YOU FALSE"
   ]
  },
  {
   "cell_type": "markdown",
   "id": "f8168602",
   "metadata": {},
   "source": [
    "ONE WAY STATEMENT\n",
    "="
   ]
  },
  {
   "cell_type": "code",
   "execution_count": 40,
   "id": "eb67afc0",
   "metadata": {},
   "outputs": [],
   "source": [
    "# EXAMPLE\n",
    "x= 5"
   ]
  },
  {
   "cell_type": "code",
   "execution_count": 41,
   "id": "3ca4bd22",
   "metadata": {},
   "outputs": [
    {
     "name": "stdout",
     "output_type": "stream",
     "text": [
      "x equals 5\n"
     ]
    }
   ],
   "source": [
    "if x == 5:\n",
    "    print('x equals 5')"
   ]
  },
  {
   "cell_type": "code",
   "execution_count": 45,
   "id": "51cc4c79",
   "metadata": {},
   "outputs": [
    {
     "name": "stdout",
     "output_type": "stream",
     "text": [
      "x is greater than 4\n"
     ]
    }
   ],
   "source": [
    "if x > 4 :\n",
    "    print('x is greater than 4')"
   ]
  },
  {
   "cell_type": "code",
   "execution_count": 46,
   "id": "030a9dc9",
   "metadata": {},
   "outputs": [
    {
     "name": "stdout",
     "output_type": "stream",
     "text": [
      "false\n"
     ]
    }
   ],
   "source": [
    "if x != 6 :\n",
    "    print('false')    # != \"means not equal to\""
   ]
  },
  {
   "cell_type": "markdown",
   "id": "fe4683de",
   "metadata": {},
   "source": [
    "TWO WAY DECISION\n",
    "="
   ]
  },
  {
   "cell_type": "code",
   "execution_count": 47,
   "id": "44290279",
   "metadata": {},
   "outputs": [
    {
     "name": "stdout",
     "output_type": "stream",
     "text": [
      "Enter your name Desmond Osei-Tutu\n"
     ]
    },
    {
     "data": {
      "text/plain": [
       "'Desmond Osei-Tutu'"
      ]
     },
     "execution_count": 47,
     "metadata": {},
     "output_type": "execute_result"
    }
   ],
   "source": [
    "input('Enter your name ')"
   ]
  },
  {
   "cell_type": "code",
   "execution_count": 50,
   "id": "104d885d",
   "metadata": {},
   "outputs": [
    {
     "name": "stdout",
     "output_type": "stream",
     "text": [
      "enter your name:Desmond\n",
      "you are welcome Desmond\n"
     ]
    }
   ],
   "source": [
    "Name = input('enter your name:')\n",
    "if Name == 'Desmond':\n",
    "    print('you are welcome', Name)\n",
    "else:\n",
    "        print(\"I don't know you\")"
   ]
  },
  {
   "cell_type": "code",
   "execution_count": 58,
   "id": "e88897f0",
   "metadata": {},
   "outputs": [
    {
     "name": "stdout",
     "output_type": "stream",
     "text": [
      "please, place your order Banku\n",
      "\n",
      "the price is 20 cedis\n"
     ]
    }
   ],
   "source": [
    "Menu = input('please, place your order ')\n",
    "print('')      # just to bring space in it\n",
    "if Menu == 'Fried rice':\n",
    "    print('the price is 45 cedis',Menu)\n",
    "else:\n",
    "        print('the price is 20 cedis')\n"
   ]
  },
  {
   "cell_type": "markdown",
   "id": "6341d040",
   "metadata": {},
   "source": [
    "A NESTED LOOP\n",
    "="
   ]
  },
  {
   "cell_type": "code",
   "execution_count": 73,
   "id": "34b7c2ad",
   "metadata": {},
   "outputs": [
    {
     "name": "stdout",
     "output_type": "stream",
     "text": [
      "\tStudent scored a passing grade\n",
      "\tpassed with A\n",
      "\tpassed with A+\n"
     ]
    }
   ],
   "source": [
    "grade=100 #int(input('enter your grade')\n",
    "if grade>60:\n",
    "    print('\\tStudent scored a passing grade')\n",
    "    if grade >=90:\n",
    "            print('\\tpassed with A')\n",
    "            if grade >= 97:\n",
    "                print('\\tpassed with A+')"
   ]
  },
  {
   "cell_type": "code",
   "execution_count": 87,
   "id": "7d4cfa3d",
   "metadata": {},
   "outputs": [
    {
     "name": "stdout",
     "output_type": "stream",
     "text": [
      "please enter your grade: 100\n",
      "A\n"
     ]
    }
   ],
   "source": [
    "grade =int(input('please enter your grade: '))\n",
    "if grade >=70 and grade <=100:\n",
    "    print('A')\n",
    "elif grade >=60 and grade <=69:\n",
    "    print('B')\n",
    "elif grade >50 and grade <=59:\n",
    "    print('C')\n",
    "elif grade >40 and grade <=49:\n",
    "    print('D, not bad')\n",
    "else:\n",
    "    print('Massa ko dua abruo')"
   ]
  },
  {
   "cell_type": "code",
   "execution_count": null,
   "id": "a50c8b79",
   "metadata": {},
   "outputs": [],
   "source": []
  }
 ],
 "metadata": {
  "kernelspec": {
   "display_name": "Python 3 (ipykernel)",
   "language": "python",
   "name": "python3"
  },
  "language_info": {
   "codemirror_mode": {
    "name": "ipython",
    "version": 3
   },
   "file_extension": ".py",
   "mimetype": "text/x-python",
   "name": "python",
   "nbconvert_exporter": "python",
   "pygments_lexer": "ipython3",
   "version": "3.9.7"
  }
 },
 "nbformat": 4,
 "nbformat_minor": 5
}
